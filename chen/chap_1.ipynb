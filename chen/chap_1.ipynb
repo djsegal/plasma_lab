{
 "cells": [
  {
   "cell_type": "markdown",
   "metadata": {},
   "source": [
    "### Chen, Chap 1"
   ]
  },
  {
   "cell_type": "code",
   "execution_count": 21,
   "metadata": {
    "collapsed": true
   },
   "outputs": [],
   "source": [
    "using SymPy\n",
    "using Unitful"
   ]
  },
  {
   "cell_type": "markdown",
   "metadata": {},
   "source": [
    "#### 1.3"
   ]
  },
  {
   "cell_type": "code",
   "execution_count": 22,
   "metadata": {},
   "outputs": [
    {
     "data": {
      "text/plain": [
       "8-element Array{Dict,1}:\n",
       " Dict{String,Any}(Pair{String,Any}(\"name\", \"reactor\"),Pair{String,Any}(\"kT\", 10000.0),Pair{String,Any}(\"n\", 1.0e21))\n",
       " Dict{String,Any}(Pair{String,Any}(\"name\", \"torus\"),Pair{String,Any}(\"kT\", 100.0),Pair{String,Any}(\"n\", 1.0e19))    \n",
       " Dict{String,Any}(Pair{String,Any}(\"name\", \"pinch\"),Pair{String,Any}(\"kT\", 1000.0),Pair{String,Any}(\"n\", 1.0e23))   \n",
       " Dict{String,Any}(Pair{String,Any}(\"name\", \"ionosphere\"),Pair{String,Any}(\"kT\", 0.05),Pair{String,Any}(\"n\", 1.0e11))\n",
       " Dict{String,Any}(Pair{String,Any}(\"name\", \"discharge\"),Pair{String,Any}(\"kT\", 2),Pair{String,Any}(\"n\", 1.0e15))    \n",
       " Dict{String,Any}(Pair{String,Any}(\"name\", \"flame\"),Pair{String,Any}(\"kT\", 0.1),Pair{String,Any}(\"n\", 1.0e14))      \n",
       " Dict{String,Any}(Pair{String,Any}(\"name\", \"Cs\"),Pair{String,Any}(\"kT\", 0.2),Pair{String,Any}(\"n\", 1.0e17))         \n",
       " Dict{String,Any}(Pair{String,Any}(\"name\", \"space\"),Pair{String,Any}(\"kT\", 0.01),Pair{String,Any}(\"n\", 1.0e6))      "
      ]
     },
     "execution_count": 22,
     "metadata": {},
     "output_type": "execute_result"
    }
   ],
   "source": [
    "cur_points = Dict[]\n",
    "\n",
    "push!(cur_points, Dict(\n",
    "    \"name\" => \"reactor\",\n",
    "    \"n\" => 1e21,\n",
    "    \"kT\" => 1e4\n",
    "))\n",
    "\n",
    "push!(cur_points, Dict(\n",
    "    \"name\" => \"torus\",\n",
    "    \"n\" => 1e19,\n",
    "    \"kT\" => 1e2\n",
    "))\n",
    "\n",
    "push!(cur_points, Dict(\n",
    "    \"name\" => \"pinch\",\n",
    "    \"n\" => 1e23,\n",
    "    \"kT\" => 1e3\n",
    "))\n",
    "\n",
    "push!(cur_points, Dict(\n",
    "    \"name\" => \"ionosphere\",\n",
    "    \"n\" => 1e11,\n",
    "    \"kT\" => 5e-2\n",
    "))\n",
    "\n",
    "push!(cur_points, Dict(\n",
    "    \"name\" => \"discharge\",\n",
    "    \"n\" => 1e15,\n",
    "    \"kT\" => 2\n",
    "))\n",
    "\n",
    "push!(cur_points, Dict(\n",
    "    \"name\" => \"flame\",\n",
    "    \"n\" => 1e14,\n",
    "    \"kT\" => 1e-1\n",
    "))\n",
    "\n",
    "push!(cur_points, Dict(\n",
    "    \"name\" => \"Cs\",\n",
    "    \"n\" => 1e17,\n",
    "    \"kT\" => 2e-1\n",
    "))\n",
    "\n",
    "push!(cur_points, Dict(\n",
    "    \"name\" => \"space\",\n",
    "    \"n\" => 1e6,\n",
    "    \"kT\" => 1e-2\n",
    "))"
   ]
  },
  {
   "cell_type": "code",
   "execution_count": 23,
   "metadata": {
    "scrolled": false
   },
   "outputs": [
    {
     "data": {
      "text/plain": [
       "lambda_D (generic function with 1 method)"
      ]
     },
     "execution_count": 23,
     "metadata": {},
     "output_type": "execute_result"
    }
   ],
   "source": [
    "function lambda_D(n, kT)\n",
    "    cur_lambda = 7430.0\n",
    "    cur_lambda *= sqrt.( kT ./ n )\n",
    "    cur_lambda\n",
    "end"
   ]
  },
  {
   "cell_type": "code",
   "execution_count": 24,
   "metadata": {},
   "outputs": [
    {
     "data": {
      "text/plain": [
       "N_D (generic function with 1 method)"
      ]
     },
     "execution_count": 24,
     "metadata": {},
     "output_type": "execute_result"
    }
   ],
   "source": [
    "function N_D(n, kT)\n",
    "    cur_N = n .* lambda_D(n, kT) .^ 3\n",
    "    cur_N *= 4.0 / 3\n",
    "    cur_N *= pi * 1.0\n",
    "end"
   ]
  },
  {
   "cell_type": "code",
   "execution_count": 25,
   "metadata": {},
   "outputs": [
    {
     "data": {
      "text/plain": [
       "3-element Array{Float64,1}:\n",
       "  10000.0  \n",
       " 100000.0  \n",
       "      1.0e6"
      ]
     },
     "execution_count": 25,
     "metadata": {},
     "output_type": "execute_result"
    }
   ],
   "source": [
    "n_list = logspace(6, 25, 25)\n",
    "lambda_list = logspace(-6, -4, 3)\n",
    "N_D_list = logspace(4, 6, 3)"
   ]
  },
  {
   "cell_type": "code",
   "execution_count": 26,
   "metadata": {
    "collapsed": true
   },
   "outputs": [],
   "source": [
    "@syms _kT\n",
    "\n",
    "lambda_t_list = Vector{Float64}[]\n",
    "\n",
    "for cur_lambda in lambda_list\n",
    "    push!(lambda_t_list, map(first, solve.(cur_lambda - lambda_D(n_list, _kT))))\n",
    "end\n",
    "\n",
    "N_D_t_list = Vector{Float64}[]\n",
    "\n",
    "for cur_N_D in N_D_list\n",
    "   push!(N_D_t_list, map(first, solve.(cur_N_D - N_D(n_list, _kT))))\n",
    "end"
   ]
  },
  {
   "cell_type": "code",
   "execution_count": 27,
   "metadata": {},
   "outputs": [
    {
     "data": {
      "text/plain": [
       "Plots.PlotlyJSBackend()"
      ]
     },
     "execution_count": 27,
     "metadata": {},
     "output_type": "execute_result"
    }
   ],
   "source": [
    "using Plots\n",
    "plotlyjs()"
   ]
  },
  {
   "cell_type": "code",
   "execution_count": 34,
   "metadata": {},
   "outputs": [
    {
     "data": {
      "text/html": [
       "<div id=\"3e13a799-418d-45ec-a7ca-60905549bc0f\" class=\"plotly-graph-div\"></div>\n",
       "\n",
       "<script>\n",
       "    window.PLOTLYENV=window.PLOTLYENV || {};\n",
       "    window.PLOTLYENV.BASE_URL=\"https://plot.ly\";\n",
       "    require(['plotly'], function(Plotly) {\n",
       "        Plotly.newPlot('3e13a799-418d-45ec-a7ca-60905549bc0f', [{\"xaxis\":\"x\",\"colorbar\":{\"title\":\"\"},\"yaxis\":\"y\",\"x\":[1.0e21],\"showlegend\":true,\"mode\":\"lines+markers\",\"name\":\"reactor\",\"marker\":{\"symbol\":\"circle\",\"color\":\"rgba(0, 154, 250, 1.000)\",\"line\":{\"color\":\"rgba(0, 0, 0, 1.000)\",\"width\":1},\"size\":8},\"line\":{\"color\":\"rgba(0, 154, 250, 1.000)\",\"width\":1,\"dash\":\"solid\",\"shape\":\"linear\"},\"y\":[10000.0],\"type\":\"scatter\"},{\"xaxis\":\"x\",\"colorbar\":{\"title\":\"\"},\"yaxis\":\"y\",\"x\":[1.0e19],\"showlegend\":true,\"mode\":\"lines+markers\",\"name\":\"torus\",\"marker\":{\"symbol\":\"circle\",\"color\":\"rgba(227, 111, 71, 1.000)\",\"line\":{\"color\":\"rgba(0, 0, 0, 1.000)\",\"width\":1},\"size\":8},\"line\":{\"color\":\"rgba(227, 111, 71, 1.000)\",\"width\":1,\"dash\":\"solid\",\"shape\":\"linear\"},\"y\":[100.0],\"type\":\"scatter\"},{\"xaxis\":\"x\",\"colorbar\":{\"title\":\"\"},\"yaxis\":\"y\",\"x\":[1.0e23],\"showlegend\":true,\"mode\":\"lines+markers\",\"name\":\"pinch\",\"marker\":{\"symbol\":\"circle\",\"color\":\"rgba(62, 164, 78, 1.000)\",\"line\":{\"color\":\"rgba(0, 0, 0, 1.000)\",\"width\":1},\"size\":8},\"line\":{\"color\":\"rgba(62, 164, 78, 1.000)\",\"width\":1,\"dash\":\"solid\",\"shape\":\"linear\"},\"y\":[1000.0],\"type\":\"scatter\"},{\"xaxis\":\"x\",\"colorbar\":{\"title\":\"\"},\"yaxis\":\"y\",\"x\":[1.0e11],\"showlegend\":true,\"mode\":\"lines+markers\",\"name\":\"ionosphere\",\"marker\":{\"symbol\":\"circle\",\"color\":\"rgba(195, 113, 210, 1.000)\",\"line\":{\"color\":\"rgba(0, 0, 0, 1.000)\",\"width\":1},\"size\":8},\"line\":{\"color\":\"rgba(195, 113, 210, 1.000)\",\"width\":1,\"dash\":\"solid\",\"shape\":\"linear\"},\"y\":[0.05],\"type\":\"scatter\"},{\"xaxis\":\"x\",\"colorbar\":{\"title\":\"\"},\"yaxis\":\"y\",\"x\":[1.0e15],\"showlegend\":true,\"mode\":\"lines+markers\",\"name\":\"discharge\",\"marker\":{\"symbol\":\"circle\",\"color\":\"rgba(172, 142, 24, 1.000)\",\"line\":{\"color\":\"rgba(0, 0, 0, 1.000)\",\"width\":1},\"size\":8},\"line\":{\"color\":\"rgba(172, 142, 24, 1.000)\",\"width\":1,\"dash\":\"solid\",\"shape\":\"linear\"},\"y\":[2],\"type\":\"scatter\"},{\"xaxis\":\"x\",\"colorbar\":{\"title\":\"\"},\"yaxis\":\"y\",\"x\":[1.0e14],\"showlegend\":true,\"mode\":\"lines+markers\",\"name\":\"flame\",\"marker\":{\"symbol\":\"circle\",\"color\":\"rgba(0, 170, 174, 1.000)\",\"line\":{\"color\":\"rgba(0, 0, 0, 1.000)\",\"width\":1},\"size\":8},\"line\":{\"color\":\"rgba(0, 170, 174, 1.000)\",\"width\":1,\"dash\":\"solid\",\"shape\":\"linear\"},\"y\":[0.1],\"type\":\"scatter\"},{\"xaxis\":\"x\",\"colorbar\":{\"title\":\"\"},\"yaxis\":\"y\",\"x\":[1.0e17],\"showlegend\":true,\"mode\":\"lines+markers\",\"name\":\"Cs\",\"marker\":{\"symbol\":\"circle\",\"color\":\"rgba(237, 94, 147, 1.000)\",\"line\":{\"color\":\"rgba(0, 0, 0, 1.000)\",\"width\":1},\"size\":8},\"line\":{\"color\":\"rgba(237, 94, 147, 1.000)\",\"width\":1,\"dash\":\"solid\",\"shape\":\"linear\"},\"y\":[0.2],\"type\":\"scatter\"},{\"xaxis\":\"x\",\"colorbar\":{\"title\":\"\"},\"yaxis\":\"y\",\"x\":[1.0e6],\"showlegend\":true,\"mode\":\"lines+markers\",\"name\":\"space\",\"marker\":{\"symbol\":\"circle\",\"color\":\"rgba(198, 130, 37, 1.000)\",\"line\":{\"color\":\"rgba(0, 0, 0, 1.000)\",\"width\":1},\"size\":8},\"line\":{\"color\":\"rgba(198, 130, 37, 1.000)\",\"width\":1,\"dash\":\"solid\",\"shape\":\"linear\"},\"y\":[0.01],\"type\":\"scatter\"},{\"showlegend\":true,\"mode\":\"lines\",\"xaxis\":\"x\",\"colorbar\":{\"title\":\"\"},\"line\":{\"color\":\"rgba(0, 169, 141, 1.000)\",\"width\":1,\"dash\":\"solid\",\"shape\":\"linear\"},\"y\":[1.811433405368002e-14,1.1212153611205883e-13,6.939939841494622e-13,4.29558554704683e-12,2.6588206257452903e-11,1.645719085899417e-10,1.0186438616687063e-9,6.305057319963259e-9,3.902614967207414e-8,2.415585268994826e-7,1.4951647141250466e-6,9.254558516557291e-6,5.7282553906779606e-5,0.00035455942887092755,0.0021946016723670913,0.013583834212768339,0.0840792906718931,0.5204220700252419,3.2212347274226034,19.938341909001018,123.41152127038697,763.8751332374172,4728.12597374969,29265.483651630027,181143.34053679954],\"type\":\"scatter\",\"name\":\"lambda_D = 1.0e-6\",\"yaxis\":\"y\",\"x\":[1.0e6,6.18965818891261e6,3.831186849557285e7,2.3713737056616554e8,1.4677992676220675e9,9.08517575651688e9,5.6234132519034904e10,3.480700588428406e11,2.1544346900318867e12,1.333521432163324e13,8.254041852680173e13,5.1089697745069344e14,3.1622776601683795e15,1.9573417814876656e16,1.2115276586285851e17,7.498942093324558e17,4.641588833612792e18,2.8729848333536567e19,1.778279410038923e20,1.1006941712522126e21,6.812920690579594e21,4.2169650342858225e22,2.610157215682544e23,1.6155980984398697e24,1.0e25]},{\"showlegend\":true,\"mode\":\"lines\",\"xaxis\":\"x\",\"colorbar\":{\"title\":\"\"},\"line\":{\"color\":\"rgba(142, 151, 30, 1.000)\",\"width\":1,\"dash\":\"solid\",\"shape\":\"linear\"},\"y\":[1.8114334053680017e-12,1.1212153611205884e-11,6.939939841494623e-11,4.2955855470468296e-10,2.65882062574529e-9,1.645719085899417e-8,1.0186438616687064e-7,6.305057319963259e-7,3.902614967207414e-6,2.4155852689948257e-5,0.00014951647141250466,0.0009254558516557291,0.005728255390677961,0.03545594288709276,0.2194601672367091,1.3583834212768338,8.407929067189311,52.04220700252419,322.12347274226033,1993.834190900102,12341.152127038697,76387.51332374172,472812.597374969,2.9265483651630026e6,1.8114334053679954e7],\"type\":\"scatter\",\"name\":\"lambda_D = 1.0e-5\",\"yaxis\":\"y\",\"x\":[1.0e6,6.18965818891261e6,3.831186849557285e7,2.3713737056616554e8,1.4677992676220675e9,9.08517575651688e9,5.6234132519034904e10,3.480700588428406e11,2.1544346900318867e12,1.333521432163324e13,8.254041852680173e13,5.1089697745069344e14,3.1622776601683795e15,1.9573417814876656e16,1.2115276586285851e17,7.498942093324558e17,4.641588833612792e18,2.8729848333536567e19,1.778279410038923e20,1.1006941712522126e21,6.812920690579594e21,4.2169650342858225e22,2.610157215682544e23,1.6155980984398697e24,1.0e25]},{\"showlegend\":true,\"mode\":\"lines\",\"xaxis\":\"x\",\"colorbar\":{\"title\":\"\"},\"line\":{\"color\":\"rgba(0, 169, 204, 1.000)\",\"width\":1,\"dash\":\"solid\",\"shape\":\"linear\"},\"y\":[1.8114334053680017e-10,1.1212153611205884e-9,6.939939841494622e-9,4.29558554704683e-8,2.65882062574529e-7,1.6457190858994171e-6,1.0186438616687064e-5,6.305057319963259e-5,0.0003902614967207414,0.002415585268994826,0.014951647141250466,0.0925455851655729,0.5728255390677961,3.5455942887092755,21.946016723670912,135.83834212768338,840.792906718931,5204.220700252418,32212.347274226035,199383.4190900102,1.2341152127038697e6,7.638751332374172e6,4.72812597374969e7,2.9265483651630026e8,1.8114334053679953e9],\"type\":\"scatter\",\"name\":\"lambda_D = 0.0001\",\"yaxis\":\"y\",\"x\":[1.0e6,6.18965818891261e6,3.831186849557285e7,2.3713737056616554e8,1.4677992676220675e9,9.08517575651688e9,5.6234132519034904e10,3.480700588428406e11,2.1544346900318867e12,1.333521432163324e13,8.254041852680173e13,5.1089697745069344e14,3.1622776601683795e15,1.9573417814876656e16,1.2115276586285851e17,7.498942093324558e17,4.641588833612792e18,2.8729848333536567e19,1.778279410038923e20,1.1006941712522126e21,6.812920690579594e21,4.2169650342858225e22,2.610157215682544e23,1.6155980984398697e24,1.0e25]},{\"showlegend\":true,\"mode\":\"lines\",\"xaxis\":\"x\",\"colorbar\":{\"title\":\"\"},\"line\":{\"color\":\"rgba(155, 127, 233, 1.000)\",\"width\":1,\"dash\":\"solid\",\"shape\":\"linear\"},\"y\":[0.0003235663125539963,0.0005940899265531584,0.001090789823100135,0.002002764876156108,0.003677213578840245,0.006751616160934288,0.012396430016166155,0.022760695140649132,0.04179019625892153,0.0767296645628448,0.14088092306266237,0.25866703049029893,0.47493039659392966,0.8720047590963765,1.6010605034759833,2.939656818441134,5.397411397911645,9.910017256284663,18.195470898856875,33.40813165801404,61.339619462627645,112.6237454502307,206.78491569329714,379.6712779116352,697.1024882920298],\"type\":\"scatter\",\"name\":\"N_D = 10000.0\",\"yaxis\":\"y\",\"x\":[1.0e6,6.18965818891261e6,3.831186849557285e7,2.3713737056616554e8,1.4677992676220675e9,9.08517575651688e9,5.6234132519034904e10,3.480700588428406e11,2.1544346900318867e12,1.333521432163324e13,8.254041852680173e13,5.1089697745069344e14,3.1622776601683795e15,1.9573417814876656e16,1.2115276586285851e17,7.498942093324558e17,4.641588833612792e18,2.8729848333536567e19,1.778279410038923e20,1.1006941712522126e21,6.812920690579594e21,4.2169650342858225e22,2.610157215682544e23,1.6155980984398697e24,1.0e25]},{\"showlegend\":true,\"mode\":\"lines\",\"xaxis\":\"x\",\"colorbar\":{\"title\":\"\"},\"line\":{\"color\":\"rgba(97, 141, 246, 1.000)\",\"width\":1,\"dash\":\"solid\",\"shape\":\"linear\"},\"y\":[0.0015018617832838915,0.0027575211692509763,0.005062997862720044,0.00929601108551807,0.017068113486354168,0.03133822618143217,0.05753913113969911,0.10564578841010165,0.19397290830989672,0.35614755424175454,0.6539113193567146,1.2006260003475475,2.2044316255736724,4.047487552678943,7.431464554872578,13.644678263130034,25.05256447496103,45.99822543768084,84.45589454646036,155.06681085570355,284.71329275578955,522.7531192814388,959.8105556415678,1762.27796399814,3235.6631255399684],\"type\":\"scatter\",\"name\":\"N_D = 100000.0\",\"yaxis\":\"y\",\"x\":[1.0e6,6.18965818891261e6,3.831186849557285e7,2.3713737056616554e8,1.4677992676220675e9,9.08517575651688e9,5.6234132519034904e10,3.480700588428406e11,2.1544346900318867e12,1.333521432163324e13,8.254041852680173e13,5.1089697745069344e14,3.1622776601683795e15,1.9573417814876656e16,1.2115276586285851e17,7.498942093324558e17,4.641588833612792e18,2.8729848333536567e19,1.778279410038923e20,1.1006941712522126e21,6.812920690579594e21,4.2169650342858225e22,2.610157215682544e23,1.6155980984398697e24,1.0e25]},{\"showlegend\":true,\"mode\":\"lines\",\"xaxis\":\"x\",\"colorbar\":{\"title\":\"\"},\"line\":{\"color\":\"rgba(240, 96, 115, 1.000)\",\"width\":1,\"dash\":\"solid\",\"shape\":\"linear\"},\"y\":[0.0069710248829202865,0.012799279467646184,0.023500354344206723,0.04314826125168128,0.07922316496909718,0.1454591607089672,0.2670729885938087,0.49036431180254614,0.900342485234612,1.6530905108870295,3.0351874780991266,5.57281223655835,10.232065217725625,18.786773028701294,34.49380289528572,63.33298626438337,116.28370352034331,213.50484955754266,392.00953705962877,719.7563777317785,1321.5220404363988,2426.4050411929757,4455.045957449578,8179.76971941563,15018.61783283894],\"type\":\"scatter\",\"name\":\"N_D = 1.0e6\",\"yaxis\":\"y\",\"x\":[1.0e6,6.18965818891261e6,3.831186849557285e7,2.3713737056616554e8,1.4677992676220675e9,9.08517575651688e9,5.6234132519034904e10,3.480700588428406e11,2.1544346900318867e12,1.333521432163324e13,8.254041852680173e13,5.1089697745069344e14,3.1622776601683795e15,1.9573417814876656e16,1.2115276586285851e17,7.498942093324558e17,4.641588833612792e18,2.8729848333536567e19,1.778279410038923e20,1.1006941712522126e21,6.812920690579594e21,4.2169650342858225e22,2.610157215682544e23,1.6155980984398697e24,1.0e25]}],\n",
       "               {\"showlegend\":true,\"xaxis\":{\"showticklabels\":true,\"gridwidth\":0.5,\"tickvals\":[1.0e10,1.0e15,1.0e20,1.0e25],\"visible\":true,\"ticks\":\"inside\",\"range\":[6.0,25.0],\"domain\":[0.10609871682706327,0.9934383202099737],\"tickmode\":\"array\",\"linecolor\":\"rgba(0, 0, 0, 1.000)\",\"showgrid\":true,\"title\":\"log n [m^-3]\",\"mirror\":false,\"tickangle\":0,\"showline\":true,\"gridcolor\":\"rgba(0, 0, 0, 0.100)\",\"titlefont\":{\"color\":\"rgba(0, 0, 0, 1.000)\",\"family\":\"sans-serif\",\"size\":15},\"tickcolor\":\"rgb(0, 0, 0)\",\"ticktext\":[\"10^10\",\"10^15\",\"10^20\",\"10^25\"],\"zeroline\":false,\"type\":\"log\",\"tickfont\":{\"color\":\"rgba(0, 0, 0, 1.000)\",\"family\":\"sans-serif\",\"size\":11},\"zerolinecolor\":\"rgba(0, 0, 0, 1.000)\",\"anchor\":\"y\"},\"paper_bgcolor\":\"rgba(255, 255, 255, 1.000)\",\"annotations\":[{\"yanchor\":\"top\",\"xanchor\":\"center\",\"rotation\":-0.0,\"y\":1.0,\"font\":{\"color\":\"rgba(0, 0, 0, 1.000)\",\"family\":\"sans-serif\",\"size\":20},\"yref\":\"paper\",\"showarrow\":false,\"text\":\"Plasma Conditions\",\"xref\":\"paper\",\"x\":0.5497685185185185}],\"height\":400,\"margin\":{\"l\":0,\"b\":20,\"r\":0,\"t\":20},\"plot_bgcolor\":\"rgba(255, 255, 255, 1.000)\",\"yaxis\":{\"showticklabels\":true,\"gridwidth\":0.5,\"tickvals\":[0.01,0.1,1.0,10.0,100.0,1000.0,10000.0,100000.0],\"visible\":true,\"ticks\":\"inside\",\"range\":[-2.0,5.0],\"domain\":[0.07581474190726165,0.9415463692038496],\"tickmode\":\"array\",\"linecolor\":\"rgba(0, 0, 0, 1.000)\",\"showgrid\":true,\"title\":\"log kT [eV]\",\"mirror\":false,\"tickangle\":0,\"showline\":true,\"gridcolor\":\"rgba(0, 0, 0, 0.100)\",\"titlefont\":{\"color\":\"rgba(0, 0, 0, 1.000)\",\"family\":\"sans-serif\",\"size\":15},\"tickcolor\":\"rgb(0, 0, 0)\",\"ticktext\":[\"10^-2\",\"10^-1\",\"10^0\",\"10^1\",\"10^2\",\"10^3\",\"10^4\",\"10^5\"],\"zeroline\":false,\"type\":\"log\",\"tickfont\":{\"color\":\"rgba(0, 0, 0, 1.000)\",\"family\":\"sans-serif\",\"size\":11},\"zerolinecolor\":\"rgba(0, 0, 0, 1.000)\",\"anchor\":\"x\"},\"legend\":{\"bordercolor\":\"rgba(0, 0, 0, 1.000)\",\"bgcolor\":\"rgba(255, 255, 255, 1.000)\",\"font\":{\"color\":\"rgba(0, 0, 0, 1.000)\",\"family\":\"sans-serif\",\"size\":11},\"y\":1.0,\"x\":1.0},\"width\":600}, {showLink: false});\n",
       "\n",
       "    });\n",
       " </script>\n"
      ]
     },
     "execution_count": 34,
     "metadata": {},
     "output_type": "execute_result"
    }
   ],
   "source": [
    "plot()\n",
    "\n",
    "for cur_point in cur_points\n",
    "   plot!([cur_point[\"n\"]], [cur_point[\"kT\"]], label=cur_point[\"name\"], marker=:circle) \n",
    "end\n",
    "\n",
    "for (cur_index, cur_kT) in enumerate(lambda_t_list)\n",
    "   plot!(n_list, cur_kT, label=\"lambda_D = $(lambda_list[cur_index])\") \n",
    "end\n",
    "\n",
    "for (cur_index, cur_kT) in enumerate(N_D_t_list)\n",
    "   plot!(n_list, cur_kT, label=\"N_D = $(N_D_list[cur_index])\") \n",
    "end\n",
    "\n",
    "yaxis!(\"log kT [eV]\",:log10)\n",
    "xaxis!(\"log n [m^-3]\",:log10)\n",
    "ylims!(0.01, 1e5)\n",
    "xlims!(1e6, 1e25)\n",
    "\n",
    "title!(\"Plasma Conditions\")"
   ]
  },
  {
   "cell_type": "markdown",
   "metadata": {
    "collapsed": true
   },
   "source": [
    "#### 1.7"
   ]
  },
  {
   "cell_type": "code",
   "execution_count": 31,
   "metadata": {},
   "outputs": [
    {
     "name": "stdout",
     "output_type": "stream",
     "text": [
      "lambda_D = 0.00010507606768432097\n",
      "N_D = 48595.94636703066\n"
     ]
    }
   ],
   "source": [
    "# discharge\n",
    "\n",
    "n = 1e16\n",
    "kT = 2\n",
    "\n",
    "println(\"lambda_D = \", lambda_D(n, kT))\n",
    "println(\"N_D = \", N_D(n, kT))"
   ]
  },
  {
   "cell_type": "code",
   "execution_count": 32,
   "metadata": {},
   "outputs": [
    {
     "name": "stdout",
     "output_type": "stream",
     "text": [
      "lambda_D = 0.002349572301505106\n",
      "N_D = 54331.91975380724\n"
     ]
    }
   ],
   "source": [
    "# ionosphere\n",
    "\n",
    "n = 1e12\n",
    "kT = 0.1\n",
    "\n",
    "println(\"lambda_D = \", lambda_D(n, kT))\n",
    "println(\"N_D = \", N_D(n, kT))"
   ]
  },
  {
   "cell_type": "code",
   "execution_count": 33,
   "metadata": {},
   "outputs": [
    {
     "name": "stdout",
     "output_type": "stream",
     "text": [
      "lambda_D = 6.645594029129376e-7\n",
      "N_D = 122939.10045696142\n"
     ]
    }
   ],
   "source": [
    "# theta-pinch\n",
    "\n",
    "n = 1e23\n",
    "kT = 800\n",
    "\n",
    "println(\"lambda_D = \", lambda_D(n, kT))\n",
    "println(\"N_D = \", N_D(n, kT))"
   ]
  },
  {
   "cell_type": "code",
   "execution_count": null,
   "metadata": {
    "collapsed": true
   },
   "outputs": [],
   "source": []
  }
 ],
 "metadata": {
  "kernelspec": {
   "display_name": "Julia 0.6.2",
   "language": "julia",
   "name": "julia-0.6"
  },
  "language_info": {
   "file_extension": ".jl",
   "mimetype": "application/julia",
   "name": "julia",
   "version": "0.6.2"
  }
 },
 "nbformat": 4,
 "nbformat_minor": 2
}
